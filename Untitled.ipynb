{
 "cells": [
  {
   "cell_type": "code",
   "execution_count": 1,
   "id": "71f515e1-d831-4874-9da2-11b5f502ec1f",
   "metadata": {},
   "outputs": [],
   "source": [
    "import numpy as np\n",
    "import pandas as pd\n"
   ]
  },
  {
   "cell_type": "code",
   "execution_count": 2,
   "id": "ca8d4192-ac9b-4f75-bc80-9b60c82fbd3b",
   "metadata": {},
   "outputs": [],
   "source": [
    "# loading the data form the csv file to pandas dataframe\n",
    "movies_data=pd.read_csv('movies.csv')"
   ]
  },
  {
   "cell_type": "code",
   "execution_count": 3,
   "id": "44a9ae5a-d196-4e65-9b67-970c01986988",
   "metadata": {},
   "outputs": [
    {
     "name": "stdout",
     "output_type": "stream",
     "text": [
      "<class 'pandas.core.frame.DataFrame'>\n",
      "RangeIndex: 4803 entries, 0 to 4802\n",
      "Data columns (total 24 columns):\n",
      " #   Column                Non-Null Count  Dtype  \n",
      "---  ------                --------------  -----  \n",
      " 0   index                 4803 non-null   int64  \n",
      " 1   budget                4803 non-null   int64  \n",
      " 2   genres                4775 non-null   object \n",
      " 3   homepage              1712 non-null   object \n",
      " 4   id                    4803 non-null   int64  \n",
      " 5   keywords              4391 non-null   object \n",
      " 6   original_language     4803 non-null   object \n",
      " 7   original_title        4803 non-null   object \n",
      " 8   overview              4800 non-null   object \n",
      " 9   popularity            4803 non-null   float64\n",
      " 10  production_companies  4803 non-null   object \n",
      " 11  production_countries  4803 non-null   object \n",
      " 12  release_date          4802 non-null   object \n",
      " 13  revenue               4803 non-null   int64  \n",
      " 14  runtime               4801 non-null   float64\n",
      " 15  spoken_languages      4803 non-null   object \n",
      " 16  status                4803 non-null   object \n",
      " 17  tagline               3959 non-null   object \n",
      " 18  title                 4803 non-null   object \n",
      " 19  vote_average          4803 non-null   float64\n",
      " 20  vote_count            4803 non-null   int64  \n",
      " 21  cast                  4760 non-null   object \n",
      " 22  crew                  4803 non-null   object \n",
      " 23  director              4773 non-null   object \n",
      "dtypes: float64(3), int64(5), object(16)\n",
      "memory usage: 900.7+ KB\n"
     ]
    }
   ],
   "source": [
    "movies_data.info()"
   ]
  },
  {
   "cell_type": "code",
   "execution_count": 4,
   "id": "0122fb81-b15b-47ef-ac09-5ed575538a46",
   "metadata": {},
   "outputs": [],
   "source": [
    "# selecting the relevant features for recommendation\n",
    "selected_features = ['genres','keywords','tagline','cast','director']"
   ]
  },
  {
   "cell_type": "code",
   "execution_count": 5,
   "id": "4a812ab7-c0a2-4e4f-8473-220991da389e",
   "metadata": {},
   "outputs": [],
   "source": [
    "for features in selected_features:\n",
    "  movies_data[features] = movies_data[features].fillna('')"
   ]
  },
  {
   "cell_type": "code",
   "execution_count": 6,
   "id": "e6cb9568-29b0-4d88-a587-b9762e09f332",
   "metadata": {},
   "outputs": [],
   "source": [
    "combined_features=''\n",
    "for features in selected_features:\n",
    "    combined_features+=movies_data[features]"
   ]
  },
  {
   "cell_type": "code",
   "execution_count": 7,
   "id": "03d020bd-b3df-43f4-89ed-2c10f25cc236",
   "metadata": {},
   "outputs": [
    {
     "name": "stdout",
     "output_type": "stream",
     "text": [
      "0       Action Adventure Fantasy Science Fictioncultur...\n",
      "1       Adventure Fantasy Actionocean drug abuse exoti...\n",
      "2       Action Adventure Crimespy based on novel secre...\n",
      "3       Action Crime Drama Thrillerdc comics crime fig...\n",
      "4       Action Adventure Science Fictionbased on novel...\n",
      "                              ...                        \n",
      "4798    Action Crime Thrillerunited states\\u2013mexico...\n",
      "4799    Comedy RomanceA newlywed couple's honeymoon is...\n",
      "4800    Comedy Drama Romance TV Moviedate love at firs...\n",
      "4801    A New Yorker in ShanghaiDaniel Henney Eliza Co...\n",
      "4802    Documentaryobsession camcorder crush dream gir...\n",
      "Name: genres, Length: 4803, dtype: object\n"
     ]
    }
   ],
   "source": [
    "print(combined_features)"
   ]
  },
  {
   "cell_type": "code",
   "execution_count": 8,
   "id": "024ba2ba-ce60-43f7-93a3-b77d8c597fbb",
   "metadata": {},
   "outputs": [
    {
     "name": "stdout",
     "output_type": "stream",
     "text": [
      "  (0, 3583)\t0.16941894714909375\n",
      "  (0, 20729)\t0.2738578969459924\n",
      "  (0, 16614)\t0.15696073877453268\n",
      "  (0, 14550)\t0.2236809363648068\n",
      "  (0, 23267)\t0.16128139780622516\n",
      "  (0, 26547)\t0.19638671147741732\n",
      "  (0, 22464)\t0.20207089568711745\n",
      "  (0, 21487)\t0.21550128478931546\n",
      "  (0, 27540)\t0.19771357974524176\n",
      "  (0, 27182)\t0.23480088356130552\n",
      "  (0, 21521)\t0.1562356665943368\n",
      "  (0, 18558)\t0.2612168335104853\n",
      "  (0, 18164)\t0.08690831799482265\n",
      "  (0, 27161)\t0.1261988657937151\n",
      "  (0, 24197)\t0.07518543993419265\n",
      "  (0, 22778)\t0.2738578969459924\n",
      "  (0, 4676)\t0.2452909770424961\n",
      "  (0, 26334)\t0.13059723071916296\n",
      "  (0, 22916)\t0.33668756406929184\n",
      "  (0, 10193)\t0.16532432420812987\n",
      "  (0, 4456)\t0.21799675215510664\n",
      "  (0, 9304)\t0.2738578969459924\n",
      "  (0, 21836)\t0.09966592997173944\n",
      "  (0, 8936)\t0.11806131645084653\n",
      "  (0, 444)\t0.09109355212252294\n",
      "  :\t:\n",
      "  (4801, 5449)\t0.31510541707008866\n",
      "  (4801, 22170)\t0.31510541707008866\n",
      "  (4801, 27361)\t0.31510541707008866\n",
      "  (4801, 27513)\t0.3005604008026175\n",
      "  (4801, 8121)\t0.2611505149930138\n",
      "  (4801, 758)\t0.19369913462690624\n",
      "  (4801, 11776)\t0.3005604008026175\n",
      "  (4801, 18790)\t0.22450140828104795\n",
      "  (4801, 2511)\t0.16619755360453184\n",
      "  (4801, 17791)\t0.15702571586793676\n",
      "  (4801, 12846)\t0.1232063996421506\n",
      "  (4802, 7770)\t0.28212235292045307\n",
      "  (4802, 11874)\t0.5642447058409061\n",
      "  (4802, 10640)\t0.28212235292045307\n",
      "  (4802, 6978)\t0.28212235292045307\n",
      "  (4802, 3569)\t0.2526933433912742\n",
      "  (4802, 9174)\t0.23381507827213685\n",
      "  (4802, 5847)\t0.2598601666162226\n",
      "  (4802, 11042)\t0.2245754361399493\n",
      "  (4802, 20664)\t0.1718311116708895\n",
      "  (4802, 2027)\t0.19514642661077047\n",
      "  (4802, 5354)\t0.2196244946235084\n",
      "  (4802, 8313)\t0.1713172199751922\n",
      "  (4802, 3128)\t0.17288424030654004\n",
      "  (4802, 7626)\t0.17686850692938538\n"
     ]
    }
   ],
   "source": [
    "# converting the text data to feature vectors\n",
    "from sklearn.feature_extraction.text import TfidfVectorizer\n",
    "vectorizer=TfidfVectorizer()\n",
    "feature_vectors = vectorizer.fit_transform(combined_features)\n",
    "print(feature_vectors)"
   ]
  },
  {
   "cell_type": "code",
   "execution_count": 9,
   "id": "e876a9fa-b523-4303-bc30-f217e9a1d628",
   "metadata": {},
   "outputs": [
    {
     "name": "stdout",
     "output_type": "stream",
     "text": [
      "[[1.         0.06865296 0.01492221 ... 0.         0.         0.        ]\n",
      " [0.06865296 1.         0.02799128 ... 0.01243107 0.         0.        ]\n",
      " [0.01492221 0.02799128 1.         ... 0.         0.         0.        ]\n",
      " ...\n",
      " [0.         0.01243107 0.         ... 1.         0.         0.        ]\n",
      " [0.         0.         0.         ... 0.         1.         0.        ]\n",
      " [0.         0.         0.         ... 0.         0.         1.        ]]\n"
     ]
    }
   ],
   "source": [
    "# getting the similarity scores using cosine similarity\n",
    "from sklearn.metrics.pairwise import cosine_similarity\n",
    "similarity =cosine_similarity(feature_vectors)\n",
    "print(similarity)"
   ]
  },
  {
   "cell_type": "code",
   "execution_count": 48,
   "id": "d8ee7ac2-b1a3-4f8f-8eb8-76c90e9c794f",
   "metadata": {},
   "outputs": [
    {
     "name": "stdin",
     "output_type": "stream",
     "text": [
      " Enter your favourite movie name :  Iron man\n"
     ]
    },
    {
     "name": "stdout",
     "output_type": "stream",
     "text": [
      "Movies suggested for you : \n",
      "\n",
      "1 . Iron Man\n",
      "2 . Iron Man 2\n",
      "3 . Iron Man 3\n",
      "4 . The Avengers\n",
      "5 . Captain America: Civil War\n",
      "6 . The Helix... Loaded\n",
      "7 . Avengers: Age of Ultron\n",
      "8 . X-Men: The Last Stand\n",
      "9 . X-Men: Days of Future Past\n",
      "10 . X-Men\n"
     ]
    }
   ],
   "source": [
    "import difflib\n",
    "movie_name = input(' Enter your favourite movie name : ')\n",
    "\n",
    "list_of_all_titles = movies_data['title'].tolist()\n",
    "\n",
    "find_close_match = difflib.get_close_matches(movie_name, list_of_all_titles)\n",
    "\n",
    "close_match = find_close_match[0]\n",
    "\n",
    "index_of_the_movie = movies_data[movies_data.title == close_match]['index'].values[0]\n",
    "\n",
    "similarity_score = list(enumerate(similarity[index_of_the_movie]))\n",
    "\n",
    "sorted_similar_movies = sorted(similarity_score, key = lambda x:x[1], reverse = True) \n",
    "\n",
    "print('Movies suggested for you : \\n')\n",
    "\n",
    "i = 1\n",
    "\n",
    "for movie in sorted_similar_movies:\n",
    "  index = movie[0]\n",
    "  title_from_index = movies_data[movies_data.index==index]['title'].values[0]\n",
    "  if (i<11):\n",
    "    print(i, '.',title_from_index)\n",
    "    i+=1"
   ]
  },
  {
   "cell_type": "code",
   "execution_count": null,
   "id": "9274c202-9e0b-4951-9257-f9046ae11e99",
   "metadata": {},
   "outputs": [],
   "source": []
  }
 ],
 "metadata": {
  "kernelspec": {
   "display_name": "Python 3 (ipykernel)",
   "language": "python",
   "name": "python3"
  },
  "language_info": {
   "codemirror_mode": {
    "name": "ipython",
    "version": 3
   },
   "file_extension": ".py",
   "mimetype": "text/x-python",
   "name": "python",
   "nbconvert_exporter": "python",
   "pygments_lexer": "ipython3",
   "version": "3.11.5"
  }
 },
 "nbformat": 4,
 "nbformat_minor": 5
}
